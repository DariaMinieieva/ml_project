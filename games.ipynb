{
 "cells": [
  {
   "cell_type": "code",
   "execution_count": null,
   "metadata": {},
   "outputs": [],
   "source": [
    "!pip install ultralytics"
   ]
  },
  {
   "cell_type": "code",
   "execution_count": 5,
   "metadata": {
    "execution": {
     "iopub.execute_input": "2023-05-26T13:42:22.328566Z",
     "iopub.status.busy": "2023-05-26T13:42:22.327126Z",
     "iopub.status.idle": "2023-05-26T13:42:22.337503Z",
     "shell.execute_reply": "2023-05-26T13:42:22.335837Z",
     "shell.execute_reply.started": "2023-05-26T13:42:22.328524Z"
    }
   },
   "outputs": [],
   "source": [
    "with open(\"/kaggle/working/config.yaml\", \"w\") as f:\n",
    "    f.write('''# Dataset paths relative to the yolov5 folder\n",
    "train: ../input/with-games/tank_with_games_only_in_train/train\n",
    "val:   ../input/with-games/tank_with_games_only_in_train/valid\n",
    "test:  ../input/with-games/tank_with_games_only_in_train/test\n",
    "\n",
    "# Number of classes\n",
    "nc: 1\n",
    "\n",
    "# Class names 0 - cat, 1 - dog\n",
    "names: ['tank']''')"
   ]
  },
  {
   "cell_type": "code",
   "execution_count": null,
   "metadata": {},
   "outputs": [],
   "source": [
    "from ultralytics import YOLO\n",
    "\n",
    "model = YOLO(\"yolov8n.pt\")\n",
    "model.train(data=\"/kaggle/working/config.yaml\", epochs=50)"
   ]
  },
  {
   "cell_type": "code",
   "execution_count": 10,
   "metadata": {
    "execution": {
     "iopub.execute_input": "2023-05-26T13:57:17.598019Z",
     "iopub.status.busy": "2023-05-26T13:57:17.596742Z",
     "iopub.status.idle": "2023-05-26T13:57:29.386225Z",
     "shell.execute_reply": "2023-05-26T13:57:29.384812Z",
     "shell.execute_reply.started": "2023-05-26T13:57:17.597969Z"
    }
   },
   "outputs": [
    {
     "name": "stderr",
     "output_type": "stream",
     "text": [
      "Ultralytics YOLOv8.0.109 🚀 Python-3.10.10 torch-2.0.0 CUDA:0 (Tesla T4, 15110MiB)\n",
      "Model summary (fused): 168 layers, 3005843 parameters, 0 gradients\n",
      "\u001b[34m\u001b[1mval: \u001b[0mScanning /kaggle/input/with-games/tank_with_games_only_in_train/valid/labels... 135 images, 0 backgrounds, 0 corrupt: 100%|██████████| 135/135 [00:00<00:00, 148.60it/s]\n",
      "\u001b[34m\u001b[1mval: \u001b[0mWARNING ⚠️ Cache directory /kaggle/input/with-games/tank_with_games_only_in_train/valid is not writeable, cache not saved.\n",
      "                 Class     Images  Instances      Box(P          R      mAP50  mAP50-95): 100%|██████████| 9/9 [00:05<00:00,  1.51it/s]\n",
      "                   all        135        342      0.931      0.827      0.906       0.59\n",
      "Speed: 0.2ms preprocess, 3.3ms inference, 0.0ms loss, 1.1ms postprocess per image\n",
      "Results saved to \u001b[1mruns/detect/val3\u001b[0m\n"
     ]
    },
    {
     "data": {
      "text/plain": [
       "ultralytics.yolo.utils.metrics.DetMetrics object with attributes:\n",
       "\n",
       "ap_class_index: array([0])\n",
       "box: ultralytics.yolo.utils.metrics.Metric object\n",
       "confusion_matrix: <ultralytics.yolo.utils.metrics.ConfusionMatrix object at 0x7a476c879f60>\n",
       "fitness: 0.6217588948839781\n",
       "keys: ['metrics/precision(B)', 'metrics/recall(B)', 'metrics/mAP50(B)', 'metrics/mAP50-95(B)']\n",
       "maps: array([    0.59021])\n",
       "names: {0: 'tank'}\n",
       "plot: True\n",
       "results_dict: {'metrics/precision(B)': 0.9308524132570849, 'metrics/recall(B)': 0.8266050529012251, 'metrics/mAP50(B)': 0.9057301677730867, 'metrics/mAP50-95(B)': 0.5902065312296326, 'fitness': 0.6217588948839781}\n",
       "save_dir: PosixPath('runs/detect/val3')\n",
       "speed: {'preprocess': 0.15941725836859807, 'inference': 3.3474180433485246, 'loss': 0.0015594341136791086, 'postprocess': 1.1297437879774306}"
      ]
     },
     "execution_count": 10,
     "metadata": {},
     "output_type": "execute_result"
    }
   ],
   "source": [
    "with open(\"/kaggle/working/val_config.yaml\", \"w\") as f:\n",
    "    f.write('''# Dataset paths relative to the yolov5 folder\n",
    "train:\n",
    "val:  ../input/with-games/tank_with_games_only_in_train/valid\n",
    "\n",
    "# Number of classes\n",
    "nc: 1\n",
    "\n",
    "# Class names 0 - cat, 1 - dog\n",
    "names: ['tank']''')\n",
    "    \n",
    "best_model_val = YOLO(\"/kaggle/input/games-best-model/best.pt\")\n",
    "best_model_val.val(data=\"/kaggle/working/val_config.yaml\")"
   ]
  },
  {
   "cell_type": "code",
   "execution_count": 11,
   "metadata": {
    "execution": {
     "iopub.execute_input": "2023-05-26T13:57:29.396142Z",
     "iopub.status.busy": "2023-05-26T13:57:29.391796Z",
     "iopub.status.idle": "2023-05-26T13:57:40.555676Z",
     "shell.execute_reply": "2023-05-26T13:57:40.554202Z",
     "shell.execute_reply.started": "2023-05-26T13:57:29.396092Z"
    }
   },
   "outputs": [
    {
     "name": "stderr",
     "output_type": "stream",
     "text": [
      "Ultralytics YOLOv8.0.109 🚀 Python-3.10.10 torch-2.0.0 CUDA:0 (Tesla T4, 15110MiB)\n",
      "Model summary (fused): 168 layers, 3005843 parameters, 0 gradients\n",
      "\u001b[34m\u001b[1mval: \u001b[0mScanning /kaggle/input/with-games/tank_with_games_only_in_train/test/labels... 94 images, 0 backgrounds, 0 corrupt: 100%|██████████| 94/94 [00:00<00:00, 147.15it/s]\n",
      "\u001b[34m\u001b[1mval: \u001b[0mWARNING ⚠️ Cache directory /kaggle/input/with-games/tank_with_games_only_in_train/test is not writeable, cache not saved.\n",
      "                 Class     Images  Instances      Box(P          R      mAP50  mAP50-95): 100%|██████████| 6/6 [00:05<00:00,  1.06it/s]\n",
      "                   all         94        247      0.774      0.563       0.65      0.372\n",
      "Speed: 0.2ms preprocess, 4.3ms inference, 0.0ms loss, 1.2ms postprocess per image\n",
      "Results saved to \u001b[1mruns/detect/val4\u001b[0m\n"
     ]
    },
    {
     "data": {
      "text/plain": [
       "ultralytics.yolo.utils.metrics.DetMetrics object with attributes:\n",
       "\n",
       "ap_class_index: array([0])\n",
       "box: ultralytics.yolo.utils.metrics.Metric object\n",
       "confusion_matrix: <ultralytics.yolo.utils.metrics.ConfusionMatrix object at 0x7a476c4aea70>\n",
       "fitness: 0.39942314514633237\n",
       "keys: ['metrics/precision(B)', 'metrics/recall(B)', 'metrics/mAP50(B)', 'metrics/mAP50-95(B)']\n",
       "maps: array([    0.37162])\n",
       "names: {0: 'tank'}\n",
       "plot: True\n",
       "results_dict: {'metrics/precision(B)': 0.7740717949836912, 'metrics/recall(B)': 0.562753036437247, 'metrics/mAP50(B)': 0.6496735221777619, 'metrics/mAP50-95(B)': 0.3716175476983957, 'fitness': 0.39942314514633237}\n",
       "save_dir: PosixPath('runs/detect/val4')\n",
       "speed: {'preprocess': 0.20273949237579994, 'inference': 4.348970474080837, 'loss': 0.0014989934069045048, 'postprocess': 1.1808060585184301}"
      ]
     },
     "execution_count": 11,
     "metadata": {},
     "output_type": "execute_result"
    }
   ],
   "source": [
    "with open(\"/kaggle/working/test_config.yaml\", \"w\") as f:\n",
    "    f.write('''# Dataset paths relative to the yolov5 folder\n",
    "train:\n",
    "val:  ../input/with-games/tank_with_games_only_in_train/test\n",
    "\n",
    "# Number of classes\n",
    "nc: 1\n",
    "\n",
    "# Class names 0 - cat, 1 - dog\n",
    "names: ['tank']''')\n",
    "    \n",
    "best_model_test = YOLO(\"/kaggle/input/games-best-model/best.pt\")\n",
    "best_model_test.val(data=\"/kaggle/working/test_config.yaml\")"
   ]
  },
  {
   "cell_type": "code",
   "execution_count": 12,
   "metadata": {
    "execution": {
     "iopub.execute_input": "2023-05-26T14:03:00.054028Z",
     "iopub.status.busy": "2023-05-26T14:03:00.053505Z",
     "iopub.status.idle": "2023-05-26T14:03:04.731276Z",
     "shell.execute_reply": "2023-05-26T14:03:04.728859Z",
     "shell.execute_reply.started": "2023-05-26T14:03:00.053988Z"
    }
   },
   "outputs": [
    {
     "data": {
      "text/html": [
       "<a href='GAMES.tar.gz' target='_blank'>GAMES.tar.gz</a><br>"
      ],
      "text/plain": [
       "/kaggle/working/GAMES.tar.gz"
      ]
     },
     "execution_count": 12,
     "metadata": {},
     "output_type": "execute_result"
    }
   ],
   "source": [
    "import os\n",
    "os.chdir(r'/kaggle/working')\n",
    "\n",
    "!tar -czf GAMES.tar.gz runs\n",
    "\n",
    "from IPython.display import FileLink\n",
    "\n",
    "FileLink(r'GAMES.tar.gz')"
   ]
  },
  {
   "cell_type": "markdown",
   "metadata": {},
   "source": [
    "Нижче приклад коду, як ми початково(неправильно) завантажували збережену модельку, для того щоб протестувати її. І результат тут дійсно менший. Проте для запуску трекінгу по відео модель було підвантажено правильно."
   ]
  },
  {
   "cell_type": "code",
   "execution_count": 13,
   "metadata": {
    "execution": {
     "iopub.execute_input": "2023-05-26T14:04:21.631865Z",
     "iopub.status.busy": "2023-05-26T14:04:21.631428Z",
     "iopub.status.idle": "2023-05-26T14:04:37.078767Z",
     "shell.execute_reply": "2023-05-26T14:04:37.077386Z",
     "shell.execute_reply.started": "2023-05-26T14:04:21.631832Z"
    }
   },
   "outputs": [
    {
     "name": "stderr",
     "output_type": "stream",
     "text": [
      "Transferred 319/355 items from pretrained weights\n",
      "Ultralytics YOLOv8.0.109 🚀 Python-3.10.10 torch-2.0.0 CUDA:0 (Tesla T4, 15110MiB)\n",
      "YOLOv8n summary (fused): 168 layers, 3151904 parameters, 0 gradients\n",
      "\u001b[34m\u001b[1mval: \u001b[0mScanning /kaggle/input/with-games/tank_with_games_only_in_train/valid/labels... 135 images, 0 backgrounds, 0 corrupt: 100%|██████████| 135/135 [00:00<00:00, 187.84it/s]\n",
      "\u001b[34m\u001b[1mval: \u001b[0mWARNING ⚠️ Cache directory /kaggle/input/with-games/tank_with_games_only_in_train/valid is not writeable, cache not saved.\n",
      "                 Class     Images  Instances      Box(P          R      mAP50  mAP50-95): 100%|██████████| 9/9 [00:06<00:00,  1.50it/s]\n",
      "                   all        135        342      0.137      0.848       0.36      0.214\n",
      "                person        135        342      0.137      0.848       0.36      0.214\n",
      "Speed: 0.2ms preprocess, 3.7ms inference, 0.0ms loss, 1.3ms postprocess per image\n",
      "Results saved to \u001b[1mruns/detect/val5\u001b[0m\n"
     ]
    },
    {
     "data": {
      "text/plain": [
       "ultralytics.yolo.utils.metrics.DetMetrics object with attributes:\n",
       "\n",
       "ap_class_index: array([0])\n",
       "box: ultralytics.yolo.utils.metrics.Metric object\n",
       "confusion_matrix: <ultralytics.yolo.utils.metrics.ConfusionMatrix object at 0x7a4752395060>\n",
       "fitness: 0.22887369893508253\n",
       "keys: ['metrics/precision(B)', 'metrics/recall(B)', 'metrics/mAP50(B)', 'metrics/mAP50-95(B)']\n",
       "maps: array([    0.21426,     0.21426,     0.21426,     0.21426,     0.21426,     0.21426,     0.21426,     0.21426,     0.21426,     0.21426,     0.21426,     0.21426,     0.21426,     0.21426,     0.21426,     0.21426,     0.21426,     0.21426,     0.21426,     0.21426,     0.21426,     0.21426,     0.21426,     0.21426,\n",
       "           0.21426,     0.21426,     0.21426,     0.21426,     0.21426,     0.21426,     0.21426,     0.21426,     0.21426,     0.21426,     0.21426,     0.21426,     0.21426,     0.21426,     0.21426,     0.21426,     0.21426,     0.21426,     0.21426,     0.21426,     0.21426,     0.21426,     0.21426,     0.21426,\n",
       "           0.21426,     0.21426,     0.21426,     0.21426,     0.21426,     0.21426,     0.21426,     0.21426,     0.21426,     0.21426,     0.21426,     0.21426,     0.21426,     0.21426,     0.21426,     0.21426,     0.21426,     0.21426,     0.21426,     0.21426,     0.21426,     0.21426,     0.21426,     0.21426,\n",
       "           0.21426,     0.21426,     0.21426,     0.21426,     0.21426,     0.21426,     0.21426,     0.21426])\n",
       "names: {0: 'person', 1: 'bicycle', 2: 'car', 3: 'motorcycle', 4: 'airplane', 5: 'bus', 6: 'train', 7: 'truck', 8: 'boat', 9: 'traffic light', 10: 'fire hydrant', 11: 'stop sign', 12: 'parking meter', 13: 'bench', 14: 'bird', 15: 'cat', 16: 'dog', 17: 'horse', 18: 'sheep', 19: 'cow', 20: 'elephant', 21: 'bear', 22: 'zebra', 23: 'giraffe', 24: 'backpack', 25: 'umbrella', 26: 'handbag', 27: 'tie', 28: 'suitcase', 29: 'frisbee', 30: 'skis', 31: 'snowboard', 32: 'sports ball', 33: 'kite', 34: 'baseball bat', 35: 'baseball glove', 36: 'skateboard', 37: 'surfboard', 38: 'tennis racket', 39: 'bottle', 40: 'wine glass', 41: 'cup', 42: 'fork', 43: 'knife', 44: 'spoon', 45: 'bowl', 46: 'banana', 47: 'apple', 48: 'sandwich', 49: 'orange', 50: 'broccoli', 51: 'carrot', 52: 'hot dog', 53: 'pizza', 54: 'donut', 55: 'cake', 56: 'chair', 57: 'couch', 58: 'potted plant', 59: 'bed', 60: 'dining table', 61: 'toilet', 62: 'tv', 63: 'laptop', 64: 'mouse', 65: 'remote', 66: 'keyboard', 67: 'cell phone', 68: 'microwave', 69: 'oven', 70: 'toaster', 71: 'sink', 72: 'refrigerator', 73: 'book', 74: 'clock', 75: 'vase', 76: 'scissors', 77: 'teddy bear', 78: 'hair drier', 79: 'toothbrush'}\n",
       "plot: True\n",
       "results_dict: {'metrics/precision(B)': 0.1365991521431936, 'metrics/recall(B)': 0.847953216374269, 'metrics/mAP50(B)': 0.36038137091378775, 'metrics/mAP50-95(B)': 0.21426173538189305, 'fitness': 0.22887369893508253}\n",
       "save_dir: PosixPath('runs/detect/val5')\n",
       "speed: {'preprocess': 0.15580919053819442, 'inference': 3.739985713252315, 'loss': 0.0017713617395471643, 'postprocess': 1.3413570545337818}"
      ]
     },
     "execution_count": 13,
     "metadata": {},
     "output_type": "execute_result"
    }
   ],
   "source": [
    "with open(\"/kaggle/working/val_config.yaml\", \"w\") as f:\n",
    "    f.write('''# Dataset paths relative to the yolov5 folder\n",
    "train:\n",
    "val:  ../input/with-games/tank_with_games_only_in_train/valid\n",
    "\n",
    "# Number of classes\n",
    "nc: 1\n",
    "\n",
    "# Class names 0 - cat, 1 - dog\n",
    "names: ['tank']''')\n",
    "    \n",
    "test_load = YOLO(\"yolov8n.pt\")\n",
    "test_load.load(weights=\"/kaggle/input/games-best-model/best.pt\")\n",
    "test_load.val(data=\"/kaggle/working/val_config.yaml\")"
   ]
  }
 ],
 "metadata": {
  "kernelspec": {
   "display_name": "Python 3 (ipykernel)",
   "language": "python",
   "name": "python3"
  },
  "language_info": {
   "codemirror_mode": {
    "name": "ipython",
    "version": 3
   },
   "file_extension": ".py",
   "mimetype": "text/x-python",
   "name": "python",
   "nbconvert_exporter": "python",
   "pygments_lexer": "ipython3",
   "version": "3.10.6"
  }
 },
 "nbformat": 4,
 "nbformat_minor": 4
}
